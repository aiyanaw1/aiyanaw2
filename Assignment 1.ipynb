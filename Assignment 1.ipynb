{
 "cells": [
  {
   "cell_type": "markdown",
   "id": "02cc2b88-9b20-492e-a662-99f780db08ca",
   "metadata": {},
   "source": [
    "Assignment 1: Data Exploration and Analysis\n",
    "\n",
    "As you work with a healthcare or public health dataset in the data folder and perform both a data exploration and analysis.\n",
    "\n",
    "Using Notes from the lecture you will do the following:\n",
    "\n",
    "Answer questions from the given dataset in Jupyter Notebook using Python\n",
    "\n",
    "Conduct analysis of the datasets\n",
    "\n",
    "Make recommendations from extracted insights\n",
    "\n",
    "Future proof aggregations by hardcoding metrics"
   ]
  },
  {
   "cell_type": "code",
   "execution_count": 2,
   "id": "461b61da-7334-4543-ae38-06369f6f03a0",
   "metadata": {},
   "outputs": [
    {
     "ename": "SyntaxError",
     "evalue": "invalid syntax (2531207023.py, line 1)",
     "output_type": "error",
     "traceback": [
      "\u001b[0;36m  Cell \u001b[0;32mIn[2], line 1\u001b[0;36m\u001b[0m\n\u001b[0;31m    echo \"# aiyanaw2\" >> README.md\u001b[0m\n\u001b[0m         ^\u001b[0m\n\u001b[0;31mSyntaxError\u001b[0m\u001b[0;31m:\u001b[0m invalid syntax\n"
     ]
    }
   ],
   "source": [
    "echo \"# aiyanaw2\" >> README.md\n",
    "git init\n",
    "git add README.md\n",
    "git commit -m \"first commit\"\n",
    "git branch -M main\n",
    "git remote add origin https://github.com/aiyanaw1/aiyanaw2.git\n",
    "git push -u origin main"
   ]
  },
  {
   "cell_type": "code",
   "execution_count": 3,
   "id": "6ae4e4b1-d7db-437f-be8b-621063f58327",
   "metadata": {},
   "outputs": [],
   "source": [
    "!echo \"# aiyanaw2\" >> README.md\n"
   ]
  },
  {
   "cell_type": "code",
   "execution_count": 4,
   "id": "32273dd0-02aa-41c8-8109-37e37beecf62",
   "metadata": {},
   "outputs": [],
   "source": [
    "with open('README.md', 'a') as file:\n",
    "    file.write(\"# aiyanaw2\\n\")\n"
   ]
  },
  {
   "cell_type": "code",
   "execution_count": 5,
   "id": "87158b66-bbd0-4024-b3fe-86d397530a13",
   "metadata": {},
   "outputs": [
    {
     "ename": "SyntaxError",
     "evalue": "invalid syntax (2531207023.py, line 1)",
     "output_type": "error",
     "traceback": [
      "\u001b[0;36m  Cell \u001b[0;32mIn[5], line 1\u001b[0;36m\u001b[0m\n\u001b[0;31m    echo \"# aiyanaw2\" >> README.md\u001b[0m\n\u001b[0m         ^\u001b[0m\n\u001b[0;31mSyntaxError\u001b[0m\u001b[0;31m:\u001b[0m invalid syntax\n"
     ]
    }
   ],
   "source": [
    "echo \"# aiyanaw2\" >> README.md\n",
    "git init\n",
    "git add README.md\n",
    "git commit -m \"first commit\"\n",
    "git branch -M main\n",
    "git remote add origin https://github.com/aiyanaw1/aiyanaw2.git\n",
    "git push -u origin main"
   ]
  },
  {
   "cell_type": "code",
   "execution_count": 6,
   "id": "cb8ac86e-4120-42db-8693-6317532f6311",
   "metadata": {},
   "outputs": [
    {
     "ename": "SyntaxError",
     "evalue": "invalid syntax (1763705990.py, line 1)",
     "output_type": "error",
     "traceback": [
      "\u001b[0;36m  Cell \u001b[0;32mIn[6], line 1\u001b[0;36m\u001b[0m\n\u001b[0;31m    git remote add origin https://github.com/aiyanaw1/aiyanaw2.git\u001b[0m\n\u001b[0m        ^\u001b[0m\n\u001b[0;31mSyntaxError\u001b[0m\u001b[0;31m:\u001b[0m invalid syntax\n"
     ]
    }
   ],
   "source": [
    "git remote add origin https://github.com/aiyanaw1/aiyanaw2.git\n",
    "git branch -M main\n",
    "git push -u origin main"
   ]
  },
  {
   "cell_type": "code",
   "execution_count": 7,
   "id": "8dad8c14-ad9d-4e28-adb2-8d991cc89d53",
   "metadata": {},
   "outputs": [
    {
     "ename": "SyntaxError",
     "evalue": "invalid syntax (1081152809.py, line 1)",
     "output_type": "error",
     "traceback": [
      "\u001b[0;36m  Cell \u001b[0;32mIn[7], line 1\u001b[0;36m\u001b[0m\n\u001b[0;31m    git remote -v\u001b[0m\n\u001b[0m        ^\u001b[0m\n\u001b[0;31mSyntaxError\u001b[0m\u001b[0;31m:\u001b[0m invalid syntax\n"
     ]
    }
   ],
   "source": [
    "git remote -v"
   ]
  },
  {
   "cell_type": "code",
   "execution_count": 8,
   "id": "169d6c85-e3b2-4a23-8012-510531cdfd6e",
   "metadata": {},
   "outputs": [
    {
     "ename": "SyntaxError",
     "evalue": "invalid syntax (3325802001.py, line 1)",
     "output_type": "error",
     "traceback": [
      "\u001b[0;36m  Cell \u001b[0;32mIn[8], line 1\u001b[0;36m\u001b[0m\n\u001b[0;31m    git log --oneline\u001b[0m\n\u001b[0m        ^\u001b[0m\n\u001b[0;31mSyntaxError\u001b[0m\u001b[0;31m:\u001b[0m invalid syntax\n"
     ]
    }
   ],
   "source": [
    "git log --oneline"
   ]
  },
  {
   "cell_type": "code",
   "execution_count": 9,
   "id": "25ef3c7c-634c-4bf3-9ed8-f9836be76835",
   "metadata": {},
   "outputs": [
    {
     "name": "stdout",
     "output_type": "stream",
     "text": [
      "\u001b[34mAdvancement Stationary Items \u001b[m\u001b[m/ \u001b[34mHU Files\u001b[m\u001b[m/\n",
      "\u001b[34mAdvancement Work \u001b[m\u001b[m/             \u001b[34mPersonal\u001b[m\u001b[m/\n",
      "Assignment 1.ipynb             README.md\n"
     ]
    }
   ],
   "source": [
    "ls"
   ]
  },
  {
   "cell_type": "code",
   "execution_count": null,
   "id": "7ce6f4b4-7ea6-43e2-93d0-fa19da13b4c8",
   "metadata": {},
   "outputs": [],
   "source": []
  }
 ],
 "metadata": {
  "kernelspec": {
   "display_name": "Python 3 (ipykernel)",
   "language": "python",
   "name": "python3"
  },
  "language_info": {
   "codemirror_mode": {
    "name": "ipython",
    "version": 3
   },
   "file_extension": ".py",
   "mimetype": "text/x-python",
   "name": "python",
   "nbconvert_exporter": "python",
   "pygments_lexer": "ipython3",
   "version": "3.12.5"
  }
 },
 "nbformat": 4,
 "nbformat_minor": 5
}
